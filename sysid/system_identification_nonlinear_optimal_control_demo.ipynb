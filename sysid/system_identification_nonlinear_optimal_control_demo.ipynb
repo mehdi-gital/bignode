{
 "cells": [
  {
   "cell_type": "code",
   "execution_count": null,
   "metadata": {},
   "outputs": [],
   "source": [
    "SYSTEM_TYPE = \"nonlinear\"\n",
    "DATA_DIR = \"data/nonlinear\"\n",
    "\n",
    "# Load graph data\n",
    "with open(os.path.join(ROOT_DIR, DATA_DIR, \"graph_obj.pickle\"), \"rb\") as handle:\n",
    "    graph_obj = pickle.load(handle)\n",
    "num_nodes_int = graph_obj[\"num_nodes_int\"]\n",
    "num_nodes_bound = graph_obj[\"num_nodes_bound\"]\n",
    "\n",
    "# Load system data\n",
    "with open(os.path.join(ROOT_DIR, DATA_DIR, \"system_data.pickle\"), \"rb\") as handle:\n",
    "    system_data = pickle.load(handle)"
   ]
  },
  {
   "cell_type": "code",
   "execution_count": null,
   "metadata": {},
   "outputs": [],
   "source": [
    "MESSAGE_DIM = 64\n",
    "EMBED_DIM = 64\n",
    "REGULARIZATION = True\n",
    "EXPERIMENT_NAME = \"bignode_reg_nonlinear\" if REGULARIZATION else \"bignode_nonlinear\"\n",
    "\n",
    "# Initializing the model\n",
    "bignode = BIGNODE(input_dim=1, message_dim=MESSAGE_DIM, embed_dim=EMBED_DIM, bvp_type=\"dirichlet\",\n",
    "                    num_nodes_int=num_nodes_int, num_nodes_bound=num_nodes_bound, device=device)\n",
    "\n",
    "# Initializing the experiment\n",
    "experiment_dirs = experiment_init(experiment_name=EXPERIMENT_NAME, graph_obj=graph_obj, system_data=system_data)"
   ]
  },
  {
   "cell_type": "code",
   "execution_count": null,
   "metadata": {},
   "outputs": [],
   "source": [
    "# Training\n",
    "model, losses = train(graph_obj=graph_obj,\n",
    "                system_data=system_data,\n",
    "                regularization=REGULARIZATION,\n",
    "                model=bignode,\n",
    "                model_dir=experiment_dirs[\"model_dir\"],\n",
    "                epochs=EPOCHS)"
   ]
  },
  {
   "cell_type": "code",
   "execution_count": null,
   "metadata": {},
   "outputs": [],
   "source": [
    "art_plots_dir = os.path.join(ROOT_DIR, 'artifacts/bignode_reg_nonlinear_2024-11-10-16-31-59/visualization/')\n",
    "node_plots = os.listdir(art_plots_dir)\n",
    "\n",
    "for filename in node_plots:\n",
    "    display(Image(filename=os.path.join(art_plots_dir, filename), width=450))"
   ]
  },
  {
   "cell_type": "markdown",
   "metadata": {},
   "source": [
    "<img src=\"../imgs/nonlin.png\" width=1000>\n"
   ]
  },
  {
   "cell_type": "code",
   "execution_count": null,
   "metadata": {},
   "outputs": [],
   "source": []
  },
  {
   "cell_type": "code",
   "execution_count": null,
   "metadata": {},
   "outputs": [],
   "source": []
  }
 ],
 "metadata": {
  "kernelspec": {
   "display_name": ".venv",
   "language": "python",
   "name": "python3"
  },
  "language_info": {
   "codemirror_mode": {
    "name": "ipython",
    "version": 3
   },
   "file_extension": ".py",
   "mimetype": "text/x-python",
   "name": "python",
   "nbconvert_exporter": "python",
   "pygments_lexer": "ipython3",
   "version": "3.12.5"
  }
 },
 "nbformat": 4,
 "nbformat_minor": 2
}
